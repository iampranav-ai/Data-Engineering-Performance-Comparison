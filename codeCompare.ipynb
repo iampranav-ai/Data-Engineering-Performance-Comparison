{
 "cells": [
  {
   "cell_type": "code",
   "execution_count": 1,
   "metadata": {},
   "outputs": [
    {
     "data": {
      "application/vnd.jupyter.widget-view+json": {
       "model_id": "e4c3a3b7c9ad429d87a2720f32cc8dab",
       "version_major": 2,
       "version_minor": 0
      },
      "text/plain": [
       "FloatProgress(value=0.0, layout=Layout(width='auto'), style=ProgressStyle(bar_color='black'))"
      ]
     },
     "metadata": {},
     "output_type": "display_data"
    },
    {
     "name": "stdout",
     "output_type": "stream",
     "text": [
      "            event_time event_type  product_id          category_id  \\\n",
      "0  2019-10-01 00:00:00       view    44600062  2103807459595387724   \n",
      "1  2019-10-01 00:00:00       view     3900821  2053013552326770905   \n",
      "2  2019-10-01 00:00:01       view    17200506  2053013559792632471   \n",
      "3  2019-10-01 00:00:01       view     1307067  2053013558920217191   \n",
      "4  2019-10-01 00:00:04       view     1004237  2053013555631882655   \n",
      "5  2019-10-01 00:00:05       view     1480613  2053013561092866779   \n",
      "6  2019-10-01 00:00:08       view    17300353  2053013553853497655   \n",
      "7  2019-10-01 00:00:08       view    31500053  2053013558031024687   \n",
      "8  2019-10-01 00:00:10       view    28719074  2053013565480109009   \n",
      "9  2019-10-01 00:00:11       view     1004545  2053013555631882655   \n",
      "10 2019-10-01 00:00:11       view     2900536  2053013554776244595   \n",
      "11 2019-10-01 00:00:11       view     1005011  2053013555631882655   \n",
      "12 2019-10-01 00:00:13       view     3900746  2053013552326770905   \n",
      "13 2019-10-01 00:00:15       view    44600062  2103807459595387724   \n",
      "14 2019-10-01 00:00:16       view    13500240  2053013557099889147   \n",
      "15 2019-10-01 00:00:17       view    23100006  2053013561638126333   \n",
      "16 2019-10-01 00:00:18       view     1801995  2053013554415534427   \n",
      "17 2019-10-01 00:00:18       view    10900029  2053013555069845885   \n",
      "18 2019-10-01 00:00:19       view     1306631  2053013558920217191   \n",
      "19 2019-10-01 00:00:19       view     1005135  2053013555631882655   \n",
      "\n",
      "                          category_code     brand    price    user_id  \\\n",
      "0                                  None  shiseido    35.79  541312140   \n",
      "1   appliances.environment.water_heater      aqua    33.20  554748717   \n",
      "2            furniture.living_room.sofa      None   543.10  519107250   \n",
      "3                    computers.notebook    lenovo   251.74  550050854   \n",
      "4                electronics.smartphone     apple  1081.98  535871217   \n",
      "5                     computers.desktop    pulser   908.62  512742880   \n",
      "6                                  None     creed   380.96  555447699   \n",
      "7                                  None  luminarc    41.16  550978835   \n",
      "8                    apparel.shoes.keds     baden   102.71  520571932   \n",
      "9                electronics.smartphone    huawei   566.01  537918940   \n",
      "10         appliances.kitchen.microwave  elenberg    51.46  555158050   \n",
      "11               electronics.smartphone   samsung   900.64  530282093   \n",
      "12  appliances.environment.water_heater     haier   102.38  555444559   \n",
      "13                                 None  shiseido    35.79  541312140   \n",
      "14                furniture.bedroom.bed       brw    93.18  555446365   \n",
      "15                                 None      None   357.79  513642368   \n",
      "16                 electronics.video.tv     haier   193.03  537192226   \n",
      "17             appliances.kitchen.mixer     bosch    58.95  519528062   \n",
      "18                   computers.notebook        hp   580.89  550050854   \n",
      "19               electronics.smartphone     apple  1747.79  535871217   \n",
      "\n",
      "                            user_session  \n",
      "0   72d76fde-8bb3-4e00-8c23-a032dfed738c  \n",
      "1   9333dfbd-b87a-4708-9857-6336556b0fcc  \n",
      "2   566511c2-e2e3-422b-b695-cf8e6e792ca8  \n",
      "3   7c90fc70-0e80-4590-96f3-13c02c18c713  \n",
      "4   c6bd7419-2748-4c56-95b4-8cec9ff8b80d  \n",
      "5   0d0d91c2-c9c2-4e81-90a5-86594dec0db9  \n",
      "6   4fe811e9-91de-46da-90c3-bbd87ed3a65d  \n",
      "7   6280d577-25c8-4147-99a7-abc6048498d6  \n",
      "8   ac1cd4e5-a3ce-4224-a2d7-ff660a105880  \n",
      "9   406c46ed-90a4-4787-a43b-59a410c1a5fb  \n",
      "10  b5bdd0b3-4ca2-4c55-939e-9ce44bb50abd  \n",
      "11  50a293fb-5940-41b2-baf3-17af0e812101  \n",
      "12  98b88fa0-d8fa-4b9d-8a71-3dd403afab85  \n",
      "13  72d76fde-8bb3-4e00-8c23-a032dfed738c  \n",
      "14  7f0062d8-ead0-4e0a-96f6-43a0b79a2fc4  \n",
      "15  17566c27-0a8f-4506-9f30-c6a2ccbf583b  \n",
      "16  e3151795-c355-4efa-acf6-e1fe1bebeee5  \n",
      "17  901b9e3c-3f8f-4147-a442-c25d5c5ed332  \n",
      "18  7c90fc70-0e80-4590-96f3-13c02c18c713  \n",
      "19  c6bd7419-2748-4c56-95b4-8cec9ff8b80d  \n",
      "     column_name column_type\n",
      "0     event_time   TIMESTAMP\n",
      "1     event_type     VARCHAR\n",
      "2     product_id      BIGINT\n",
      "3    category_id      BIGINT\n",
      "4  category_code     VARCHAR\n",
      "5          brand     VARCHAR\n",
      "6          price      DOUBLE\n",
      "7        user_id      BIGINT\n",
      "8   user_session     VARCHAR\n"
     ]
    }
   ],
   "source": [
    "import duckdb\n",
    "import pandas as pd\n",
    "\n",
    "# Load the CSV file using DuckDB\n",
    "con = duckdb.connect(database=':memory:')\n",
    "con.execute(\"CREATE TABLE ecommerce AS SELECT * FROM '2019-Oct_ecommerce_bigData.csv'\")\n",
    "\n",
    "# Fetch the top 20 rows\n",
    "duckdb_result = con.execute(\"SELECT * FROM ecommerce LIMIT 20\").fetchdf()\n",
    "\n",
    "# Display the top 20 rows\n",
    "print(duckdb_result)\n",
    "\n",
    "# Display the column types\n",
    "duckdb_column_types = con.execute(\"DESCRIBE ecommerce\").fetchdf()\n",
    "print(duckdb_column_types[['column_name', 'column_type']])\n"
   ]
  },
  {
   "cell_type": "code",
   "execution_count": 1,
   "metadata": {},
   "outputs": [
    {
     "data": {
      "application/vnd.jupyter.widget-view+json": {
       "model_id": "a20341847a3a4b7cbe9eab2548e48fc8",
       "version_major": 2,
       "version_minor": 0
      },
      "text/plain": [
       "FloatProgress(value=0.0, layout=Layout(width='auto'), style=ProgressStyle(bar_color='black'))"
      ]
     },
     "metadata": {},
     "output_type": "display_data"
    },
    {
     "name": "stdout",
     "output_type": "stream",
     "text": [
      "\n",
      "1. Total number of events:\n",
      "Execution time: 0.0120 seconds\n",
      "Result: [(42448764,)]\n",
      "\n",
      "2. Number of unique users:\n",
      "Execution time: 0.7945 seconds\n",
      "Result: [(3022290,)]\n",
      "\n",
      "3. Top 10 most viewed products:\n",
      "Execution time: 0.8538 seconds\n",
      "Result: [(1004856, 419287), (1004767, 378777), (1005115, 327715), (1004249, 207422), (1004833, 203018), (1005105, 197930), (1004870, 190435), (1002544, 179249), (4804056, 179092), (5100816, 164608)]\n",
      "\n",
      "4. Total revenue:\n",
      "Execution time: 0.1430 seconds\n",
      "Result: [(229957502.2700042,)]\n",
      "\n",
      "5. Average purchase price:\n",
      "Execution time: 0.1500 seconds\n",
      "Result: [(309.5615694037475,)]\n",
      "\n",
      "6. Event count by type:\n",
      "Execution time: 0.3474 seconds\n",
      "Result: [('purchase', 742849), ('cart', 926516), ('view', 40779399)]\n",
      "\n",
      "7. Top 5 brands by views:\n",
      "Execution time: 0.6417 seconds\n",
      "Result: [('samsung', 4806630), ('apple', 3770597), ('xiaomi', 2922650), ('huawei', 1045572), ('lucente', 644283)]\n",
      "\n",
      "8. Hourly event distribution:\n",
      "Execution time: 0.1649 seconds\n",
      "Result: [(0, 306805), (1, 559027), (2, 1069047), (3, 1550285), (4, 1915643), (5, 2125633), (6, 2269092), (7, 2335718), (8, 2390127), (9, 2351683)]\n",
      "\n",
      "9. Conversion rate:\n",
      "Execution time: 0.2902 seconds\n",
      "Result: [(0.01821628026664257,)]\n",
      "\n",
      "10. Top 10 categories by revenue:\n",
      "Execution time: 0.2872 seconds\n",
      "Result: [('electronics.smartphone', 157049623.36999342), ('computers.notebook', 8979887.249999998), ('electronics.video.tv', 8423407.860000053), ('electronics.clocks', 4818305.469999979), ('appliances.kitchen.washer', 4658646.590000004), ('appliances.kitchen.refrigerators', 3830077.0099999947), ('electronics.audio.headphone', 3539126.9899999443), ('appliances.environment.vacuum', 1716425.409999997), ('electronics.tablet', 1610973.7800000014), ('computers.desktop', 1116821.9799999997)]\n",
      "\n",
      "11. Top 10 users by session count:\n"
     ]
    },
    {
     "data": {
      "application/vnd.jupyter.widget-view+json": {
       "model_id": "055264b177634250aad3441a8ad862e6",
       "version_major": 2,
       "version_minor": 0
      },
      "text/plain": [
       "FloatProgress(value=0.0, layout=Layout(width='auto'), style=ProgressStyle(bar_color='black'))"
      ]
     },
     "metadata": {},
     "output_type": "display_data"
    },
    {
     "name": "stdout",
     "output_type": "stream",
     "text": [
      "Execution time: 3.0058 seconds\n",
      "Result: [(512475445, 7400), (526731152, 2773), (514649263, 2336), (563459593, 1618), (561163588, 1182), (554631275, 860), (512500203, 785), (513847031, 731), (548931675, 681), (537873067, 673)]\n",
      "\n",
      "12. Average session duration:\n"
     ]
    },
    {
     "data": {
      "application/vnd.jupyter.widget-view+json": {
       "model_id": "e600b3d4d5bb4a759400c27f22b00745",
       "version_major": 2,
       "version_minor": 0
      },
      "text/plain": [
       "FloatProgress(value=0.0, layout=Layout(width='auto'), style=ProgressStyle(bar_color='black'))"
      ]
     },
     "metadata": {},
     "output_type": "display_data"
    },
    {
     "name": "stdout",
     "output_type": "stream",
     "text": [
      "Execution time: 2.7664 seconds\n",
      "Result: [(1042.0589841095527,)]\n",
      "\n",
      "13. Top 10 products by view-to-purchase ratio:\n",
      "Execution time: 1.1318 seconds\n",
      "Result: [(50300057, 1.0), (26205483, 1.0), (26006029, 1.0), (26009418, 1.0), (26008004, 1.0), (12720815, 1.0), (26011573, 1.0), (29502825, 1.0), (24100063, 1.0), (14701426, 1.0)]\n",
      "\n",
      "15. Top 5 user journeys:\n"
     ]
    },
    {
     "data": {
      "application/vnd.jupyter.widget-view+json": {
       "model_id": "30782b94137e4f6d806785b9ff3efd68",
       "version_major": 2,
       "version_minor": 0
      },
      "text/plain": [
       "FloatProgress(value=0.0, layout=Layout(width='auto'), style=ProgressStyle(bar_color='black'))"
      ]
     },
     "metadata": {},
     "output_type": "display_data"
    },
    {
     "name": "stdout",
     "output_type": "stream",
     "text": [
      "Execution time: 12.3726 seconds\n",
      "Result: [('view', 'view', 'view', 33663206), ('view', 'view', 'cart', 543399), ('purchase', 'view', 'view', 494393), ('view', 'purchase', 'view', 388418), ('view', 'cart', 'view', 354904)]\n",
      "\n",
      "16. Price range distribution of purchases:\n",
      "Execution time: 0.1992 seconds\n",
      "Result: [('0-50', 117070), ('100-500', 397081), ('50-100', 92306), ('500+', 136392)]\n",
      "\n",
      "17. Users with abandoned carts:\n",
      "Execution time: 1.4700 seconds\n",
      "Result: [(223524,)]\n",
      "\n",
      "18. Price-view correlation:\n",
      "Execution time: 0.9958 seconds\n",
      "Result: [(0.03704910489014175,)]\n",
      "\n",
      "19. Top 10 most valuable customers:\n",
      "Execution time: 0.2060 seconds\n",
      "Result: [(519267944, 265569.52), (513117637, 244499.99999999997), (515384420, 210749.77), (530834332, 187128.93000000002), (512386086, 182470.8), (519250600, 174449.35000000003), (513784794, 143821.03000000003), (538216048, 134344.69), (514320330, 119103.99000000002), (553431815, 118762.23999999996)]\n",
      "\n",
      "20. Top 5 category affinities:\n"
     ]
    },
    {
     "data": {
      "application/vnd.jupyter.widget-view+json": {
       "model_id": "4f6c99d06c4649fea98a3574863261dd",
       "version_major": 2,
       "version_minor": 0
      },
      "text/plain": [
       "FloatProgress(value=0.0, layout=Layout(width='auto'), style=ProgressStyle(bar_color='black'))"
      ]
     },
     "metadata": {},
     "output_type": "display_data"
    },
    {
     "name": "stdout",
     "output_type": "stream",
     "text": [
      "Execution time: 8.4496 seconds\n",
      "Result: [('computers.components.power_supply', 'computers.components.videocards', 1741, 0.554811954498291), ('auto.accessories.anti_freeze', 'electronics.smartphone', 74, 0.5138888955116272), ('apparel.sock', 'kids.carriage', 612, 0.5074626803398132), ('computers.peripherals.camera', 'electronics.smartphone', 905, 0.503337025642395), ('computers.ebooks', 'electronics.smartphone', 3196, 0.49078625440597534)]\n"
     ]
    }
   ],
   "source": [
    "import duckdb\n",
    "import time\n",
    "\n",
    "# Connect to DuckDB\n",
    "con = duckdb.connect(database=':memory:')\n",
    "\n",
    "# Load the CSV file\n",
    "con.execute(\"CREATE TABLE ecommerce AS SELECT * FROM '2019-Oct_ecommerce_bigData.csv'\")\n",
    "\n",
    "# Function to run a query and print its execution time\n",
    "def run_query(query, description):\n",
    "    print(f\"\\n{description}\")\n",
    "    start_time = time.time()\n",
    "    result = con.execute(query).fetchall()\n",
    "    end_time = time.time()\n",
    "    print(f\"Execution time: {end_time - start_time:.4f} seconds\")\n",
    "    print(\"Result:\", result[:10])  # Print only first 10 results to keep output manageable\n",
    "\n",
    "# List of queries with descriptions\n",
    "queries = [\n",
    "    (\"SELECT COUNT(*) FROM ecommerce\", \"1. Total number of events:\"),\n",
    "    (\"SELECT COUNT(DISTINCT user_id) FROM ecommerce\", \"2. Number of unique users:\"),\n",
    "    (\"SELECT product_id, COUNT(*) as view_count FROM ecommerce WHERE event_type = 'view' GROUP BY product_id ORDER BY view_count DESC LIMIT 10\", \"3. Top 10 most viewed products:\"),\n",
    "    (\"SELECT SUM(price) as total_revenue FROM ecommerce WHERE event_type = 'purchase'\", \"4. Total revenue:\"),\n",
    "    (\"SELECT AVG(price) as avg_price FROM ecommerce WHERE event_type = 'purchase'\", \"5. Average purchase price:\"),\n",
    "    (\"SELECT event_type, COUNT(*) as event_count FROM ecommerce GROUP BY event_type\", \"6. Event count by type:\"),\n",
    "    (\"SELECT brand, COUNT(*) as view_count FROM ecommerce WHERE event_type = 'view' AND brand IS NOT NULL GROUP BY brand ORDER BY view_count DESC LIMIT 5\", \"7. Top 5 brands by views:\"),\n",
    "    (\"SELECT EXTRACT(HOUR FROM event_time) as hour, COUNT(*) as event_count FROM ecommerce GROUP BY hour ORDER BY hour\", \"8. Hourly event distribution:\"),\n",
    "    (\"WITH views AS (SELECT COUNT(*) as view_count FROM ecommerce WHERE event_type = 'view'), purchases AS (SELECT COUNT(*) as purchase_count FROM ecommerce WHERE event_type = 'purchase') SELECT CAST(purchase_count AS FLOAT) / view_count as conversion_rate FROM views, purchases\", \"9. Conversion rate:\"),\n",
    "    (\"SELECT category_code, SUM(price) as revenue FROM ecommerce WHERE event_type = 'purchase' AND category_code IS NOT NULL GROUP BY category_code ORDER BY revenue DESC LIMIT 10\", \"10. Top 10 categories by revenue:\"),\n",
    "    (\"SELECT user_id, COUNT(DISTINCT user_session) as session_count FROM ecommerce GROUP BY user_id ORDER BY session_count DESC LIMIT 10\", \"11. Top 10 users by session count:\"),\n",
    "    (\"WITH session_times AS (SELECT user_session, MIN(event_time) as start_time, MAX(event_time) as end_time FROM ecommerce GROUP BY user_session) SELECT AVG(EXTRACT(EPOCH FROM (end_time - start_time))) as avg_duration_seconds FROM session_times\", \"12. Average session duration:\"),\n",
    "    (\"WITH product_events AS (SELECT product_id, SUM(CASE WHEN event_type = 'view' THEN 1 ELSE 0 END) as views, SUM(CASE WHEN event_type = 'purchase' THEN 1 ELSE 0 END) as purchases FROM ecommerce GROUP BY product_id) SELECT product_id, CAST(purchases AS FLOAT) / views as conversion_ratio FROM product_events WHERE views > 0 ORDER BY conversion_ratio DESC LIMIT 10\", \"13. Top 10 products by view-to-purchase ratio:\"),\n",
    "    # (\"SELECT SUBSTR(event_time, 1, 10) as date, SUM(price) as daily_revenue FROM ecommerce WHERE event_type = 'purchase' GROUP BY date ORDER BY date\", \"14. Daily revenue trend:\"),\n",
    "    (\"WITH journey AS (SELECT user_id, event_type, LAG(event_type, 1) OVER (PARTITION BY user_id ORDER BY event_time) as prev_event, LAG(event_type, 2) OVER (PARTITION BY user_id ORDER BY event_time) as prev_prev_event FROM ecommerce) SELECT prev_prev_event, prev_event, event_type, COUNT(*) as journey_count FROM journey WHERE prev_prev_event IS NOT NULL GROUP BY prev_prev_event, prev_event, event_type ORDER BY journey_count DESC LIMIT 5\", \"15. Top 5 user journeys:\"),\n",
    "    (\"SELECT CASE WHEN price < 50 THEN '0-50' WHEN price < 100 THEN '50-100' WHEN price < 500 THEN '100-500' ELSE '500+' END as price_range, COUNT(*) as purchase_count FROM ecommerce WHERE event_type = 'purchase' GROUP BY price_range ORDER BY price_range\", \"16. Price range distribution of purchases:\"),\n",
    "    (\"WITH user_events AS (SELECT user_id, SUM(CASE WHEN event_type = 'cart' THEN 1 ELSE 0 END) as cart_adds, SUM(CASE WHEN event_type = 'purchase' THEN 1 ELSE 0 END) as purchases FROM ecommerce GROUP BY user_id) SELECT COUNT(*) as users_with_abandoned_carts FROM user_events WHERE cart_adds > purchases\", \"17. Users with abandoned carts:\"),\n",
    "    (\"WITH product_stats AS (SELECT product_id, AVG(price) as avg_price, COUNT(*) as view_count FROM ecommerce WHERE event_type = 'view' GROUP BY product_id) SELECT CORR(avg_price, view_count) as price_view_correlation FROM product_stats\", \"18. Price-view correlation:\"),\n",
    "    (\"SELECT user_id, SUM(price) as total_spend FROM ecommerce WHERE event_type = 'purchase' GROUP BY user_id ORDER BY total_spend DESC LIMIT 10\", \"19. Top 10 most valuable customers:\"),\n",
    "    (\"WITH user_categories AS (SELECT DISTINCT user_id, category_code FROM ecommerce WHERE event_type = 'view' AND category_code IS NOT NULL), category_pairs AS (SELECT a.category_code as category1, b.category_code as category2, COUNT(DISTINCT a.user_id) as common_users FROM user_categories a JOIN user_categories b ON a.user_id = b.user_id AND a.category_code < b.category_code GROUP BY a.category_code, b.category_code) SELECT category1, category2, common_users, common_users / CAST((SELECT COUNT(DISTINCT user_id) FROM user_categories WHERE category_code = category1) AS FLOAT) as affinity_score FROM category_pairs ORDER BY affinity_score DESC LIMIT 5\", \"20. Top 5 category affinities:\")\n",
    "]\n",
    "\n",
    "# Run all queries\n",
    "for query, description in queries:\n",
    "    run_query(query, description)\n",
    "\n",
    "# Close the connection\n",
    "con.close()"
   ]
  },
  {
   "cell_type": "markdown",
   "metadata": {},
   "source": [
    "## Pandas vs DuckDB"
   ]
  },
  {
   "cell_type": "code",
   "execution_count": 2,
   "metadata": {},
   "outputs": [
    {
     "name": "stdout",
     "output_type": "stream",
     "text": [
      "DuckDB Performance:\n"
     ]
    },
    {
     "data": {
      "application/vnd.jupyter.widget-view+json": {
       "model_id": "707f9c323c524eca8e2e21bde20bb424",
       "version_major": 2,
       "version_minor": 0
      },
      "text/plain": [
       "FloatProgress(value=0.0, layout=Layout(width='auto'), style=ProgressStyle(bar_color='black'))"
      ]
     },
     "metadata": {},
     "output_type": "display_data"
    },
    {
     "name": "stdout",
     "output_type": "stream",
     "text": [
      "1. Total number of events: [(42448764,)], Time: 0.0212 seconds\n",
      "2. Number of unique users: [(3022290,)], Time: 1.2935 seconds\n",
      "3. Top 10 most viewed products: [(1004856, 419287), (1004767, 378777), (1005115, 327715), (1004249, 207422), (1004833, 203018), (1005105, 197930), (1004870, 190435), (1002544, 179249), (4804056, 179092), (5100816, 164608)], Time: 0.9167 seconds\n",
      "4. Total revenue: [(229957502.27000415,)], Time: 0.1096 seconds\n",
      "5. Average purchase price: [(309.56156940374643,)], Time: 0.1166 seconds\n",
      "6. Event count by type: [('cart', 926516), ('purchase', 742849), ('view', 40779399)], Time: 0.2917 seconds\n",
      "\n",
      "Pandas Performance:\n",
      "1. Total number of events: 42448764, Time: 0.0000 seconds\n",
      "2. Number of unique users: 3022290, Time: 3.2735 seconds\n",
      "3. Top 10 most viewed products: [[1004856, 419287], [1004767, 378777], [1005115, 327715], [1004249, 207422], [1004833, 203018], [1005105, 197930], [1004870, 190435], [1002544, 179249], [4804056, 179092], [5100816, 164608]], Time: 24.2381 seconds\n",
      "4. Total revenue: 229957502.26999995, Time: 7.3768 seconds\n",
      "5. Average purchase price: 309.5615694037415, Time: 7.2762 seconds\n",
      "6. Event count by type: [['view', 40779399], ['cart', 926516], ['purchase', 742849]], Time: 7.6470 seconds\n",
      "\n",
      "Total time (DuckDB): 2.7492 seconds\n",
      "Total time (Pandas): 49.8115 seconds\n",
      "DuckDB is 18.12x faster than Pandas for these operations\n"
     ]
    }
   ],
   "source": [
    "import duckdb\n",
    "import pandas as pd\n",
    "import time\n",
    "\n",
    "# Function to measure execution time\n",
    "def measure_time(func):\n",
    "    start_time = time.time()\n",
    "    result = func()\n",
    "    end_time = time.time()\n",
    "    return result, end_time - start_time\n",
    "\n",
    "# DuckDB implementation\n",
    "def duckdb_operations():\n",
    "    con = duckdb.connect(database=':memory:')\n",
    "    \n",
    "    # Load the CSV file\n",
    "    con.execute(\"CREATE TABLE ecommerce AS SELECT * FROM '2019-Oct_ecommerce_bigData.csv'\")\n",
    "    \n",
    "    results = []\n",
    "    \n",
    "    # Query 1: Total number of events\n",
    "    results.append(measure_time(lambda: con.execute(\"SELECT COUNT(*) FROM ecommerce\").fetchall()))\n",
    "    \n",
    "    # Query 2: Number of unique users\n",
    "    results.append(measure_time(lambda: con.execute(\"SELECT COUNT(DISTINCT user_id) FROM ecommerce\").fetchall()))\n",
    "    \n",
    "    # Query 3: Top 10 most viewed products\n",
    "    results.append(measure_time(lambda: con.execute(\"SELECT product_id, COUNT(*) as view_count FROM ecommerce WHERE event_type = 'view' GROUP BY product_id ORDER BY view_count DESC LIMIT 10\").fetchall()))\n",
    "    \n",
    "    # Query 4: Total revenue\n",
    "    results.append(measure_time(lambda: con.execute(\"SELECT SUM(price) as total_revenue FROM ecommerce WHERE event_type = 'purchase'\").fetchall()))\n",
    "    \n",
    "    # Query 5: Average purchase price\n",
    "    results.append(measure_time(lambda: con.execute(\"SELECT AVG(price) as avg_price FROM ecommerce WHERE event_type = 'purchase'\").fetchall()))\n",
    "    \n",
    "    # Query 6: Event count by type\n",
    "    results.append(measure_time(lambda: con.execute(\"SELECT event_type, COUNT(*) as event_count FROM ecommerce GROUP BY event_type\").fetchall()))\n",
    "    \n",
    "    con.close()\n",
    "    return results\n",
    "\n",
    "# Pandas implementation\n",
    "def pandas_operations():\n",
    "    # Load the CSV file\n",
    "    df = pd.read_csv('2019-Oct_ecommerce_bigData.csv')\n",
    "    \n",
    "    results = []\n",
    "    \n",
    "    # Query 1: Total number of events\n",
    "    results.append(measure_time(lambda: len(df)))\n",
    "    \n",
    "    # Query 2: Number of unique users\n",
    "    results.append(measure_time(lambda: df['user_id'].nunique()))\n",
    "    \n",
    "    # Query 3: Top 10 most viewed products\n",
    "    results.append(measure_time(lambda: df[df['event_type'] == 'view']['product_id'].value_counts().nlargest(10).reset_index().values.tolist()))\n",
    "    \n",
    "    # Query 4: Total revenue\n",
    "    results.append(measure_time(lambda: df[df['event_type'] == 'purchase']['price'].sum()))\n",
    "    \n",
    "    # Query 5: Average purchase price\n",
    "    results.append(measure_time(lambda: df[df['event_type'] == 'purchase']['price'].mean()))\n",
    "    \n",
    "    # Query 6: Event count by type\n",
    "    results.append(measure_time(lambda: df['event_type'].value_counts().reset_index().values.tolist()))\n",
    "    \n",
    "    return results\n",
    "\n",
    "# Run and compare\n",
    "queries = [\n",
    "    \"1. Total number of events:\",\n",
    "    \"2. Number of unique users:\",\n",
    "    \"3. Top 10 most viewed products:\",\n",
    "    \"4. Total revenue:\",\n",
    "    \"5. Average purchase price:\",\n",
    "    \"6. Event count by type:\"\n",
    "]\n",
    "\n",
    "print(\"DuckDB Performance:\")\n",
    "duckdb_results = duckdb_operations()\n",
    "for query, result in zip(queries, duckdb_results):\n",
    "    print(f\"{query} {result[0]}, Time: {result[1]:.4f} seconds\")\n",
    "\n",
    "print(\"\\nPandas Performance:\")\n",
    "pandas_results = pandas_operations()\n",
    "for query, result in zip(queries, pandas_results):\n",
    "    print(f\"{query} {result[0]}, Time: {result[1]:.4f} seconds\")\n",
    "\n",
    "# Overall comparison\n",
    "duckdb_total_time = sum(result[1] for result in duckdb_results)\n",
    "pandas_total_time = sum(result[1] for result in pandas_results)\n",
    "\n",
    "print(f\"\\nTotal time (DuckDB): {duckdb_total_time:.4f} seconds\")\n",
    "print(f\"Total time (Pandas): {pandas_total_time:.4f} seconds\")\n",
    "print(f\"DuckDB is {pandas_total_time / duckdb_total_time:.2f}x faster than Pandas for these operations\")"
   ]
  },
  {
   "cell_type": "code",
   "execution_count": 2,
   "metadata": {},
   "outputs": [
    {
     "data": {
      "application/vnd.jupyter.widget-view+json": {
       "model_id": "dce9c7513d4e45e89f14912a5782b7b7",
       "version_major": 2,
       "version_minor": 0
      },
      "text/plain": [
       "FloatProgress(value=0.0, layout=Layout(width='auto'), style=ProgressStyle(bar_color='black'))"
      ]
     },
     "metadata": {},
     "output_type": "display_data"
    }
   ],
   "source": [
    "import duckdb\n",
    "import polars as pl\n",
    "import time\n",
    "\n",
    "# DuckDB setup\n",
    "duck_conn = duckdb.connect('ecommerce.db')\n",
    "\n",
    "# Drop the table if it exists\n",
    "duck_conn.execute(\"DROP TABLE IF EXISTS ecommerce\")\n",
    "\n",
    "duck_conn.execute(\"CREATE TABLE ecommerce AS SELECT * FROM read_csv_auto('2019-Oct_ecommerce_bigData.csv')\")\n",
    "\n",
    "# Polars setup\n",
    "df = pl.read_csv(\"2019-Oct_ecommerce_bigData.csv\")\n"
   ]
  },
  {
   "cell_type": "code",
   "execution_count": 3,
   "metadata": {},
   "outputs": [],
   "source": [
    "import time\n",
    "def time_execution(func):\n",
    "    start = time.time()\n",
    "    result = func()\n",
    "    end = time.time()\n",
    "    print(f\"Execution time: {end - start:.4f} seconds\")\n",
    "    return result"
   ]
  },
  {
   "cell_type": "code",
   "execution_count": 4,
   "metadata": {},
   "outputs": [
    {
     "name": "stdout",
     "output_type": "stream",
     "text": [
      "Query 1: Count total number of events\n",
      "Execution time: 0.5530 seconds\n",
      "DuckDB result: 42448764\n",
      "Execution time: 0.0040 seconds\n",
      "Polars result: 42448764\n"
     ]
    }
   ],
   "source": [
    "\n",
    "# Query 1: Count total number of events\n",
    "print(\"Query 1: Count total number of events\")\n",
    "\n",
    "duck_result = time_execution(lambda: duck_conn.execute(\"SELECT COUNT(*) FROM ecommerce\").fetchone()[0])\n",
    "print(f\"DuckDB result: {duck_result}\")\n",
    "\n",
    "polars_result = time_execution(lambda: len(df))\n",
    "print(f\"Polars result: {polars_result}\")\n"
   ]
  },
  {
   "cell_type": "code",
   "execution_count": 5,
   "metadata": {},
   "outputs": [
    {
     "name": "stdout",
     "output_type": "stream",
     "text": [
      "\n",
      "Query 2: Count unique users\n"
     ]
    },
    {
     "data": {
      "application/vnd.jupyter.widget-view+json": {
       "model_id": "d5af0ad60c2649d6b6fe756f1b95b1da",
       "version_major": 2,
       "version_minor": 0
      },
      "text/plain": [
       "FloatProgress(value=0.0, layout=Layout(width='auto'), style=ProgressStyle(bar_color='black'))"
      ]
     },
     "metadata": {},
     "output_type": "display_data"
    },
    {
     "name": "stdout",
     "output_type": "stream",
     "text": [
      "Execution time: 3.3075 seconds\n",
      "DuckDB result: 3022290\n",
      "Execution time: 1.9898 seconds\n",
      "Polars result: 3022290\n"
     ]
    }
   ],
   "source": [
    "\n",
    "# Query 2: Count unique users\n",
    "print(\"\\nQuery 2: Count unique users\")\n",
    "\n",
    "duck_result = time_execution(lambda: duck_conn.execute(\"SELECT COUNT(DISTINCT user_id) FROM ecommerce\").fetchone()[0])\n",
    "print(f\"DuckDB result: {duck_result}\")\n",
    "\n",
    "polars_result = time_execution(lambda: df['user_id'].n_unique())\n",
    "print(f\"Polars result: {polars_result}\")\n"
   ]
  },
  {
   "cell_type": "code",
   "execution_count": 5,
   "metadata": {},
   "outputs": [
    {
     "name": "stdout",
     "output_type": "stream",
     "text": [
      "\n",
      "Query 3: Top 10 most viewed products\n",
      "Execution time: 1.4306 seconds\n",
      "DuckDB result: [(1004856, 419287), (1004767, 378777), (1005115, 327715)]...\n"
     ]
    },
    {
     "ename": "AttributeError",
     "evalue": "'DataFrame' object has no attribute 'groupby'",
     "output_type": "error",
     "traceback": [
      "\u001b[1;31m---------------------------------------------------------------------------\u001b[0m",
      "\u001b[1;31mAttributeError\u001b[0m                            Traceback (most recent call last)",
      "Cell \u001b[1;32mIn[5], line 14\u001b[0m\n\u001b[0;32m      4\u001b[0m duck_result \u001b[38;5;241m=\u001b[39m time_execution(\u001b[38;5;28;01mlambda\u001b[39;00m: duck_conn\u001b[38;5;241m.\u001b[39mexecute(\u001b[38;5;124m\"\"\"\u001b[39m\n\u001b[0;32m      5\u001b[0m \u001b[38;5;124m    SELECT product_id, COUNT(*) as view_count\u001b[39m\n\u001b[0;32m      6\u001b[0m \u001b[38;5;124m    FROM ecommerce\u001b[39m\n\u001b[1;32m   (...)\u001b[0m\n\u001b[0;32m     10\u001b[0m \u001b[38;5;124m    LIMIT 10\u001b[39m\n\u001b[0;32m     11\u001b[0m \u001b[38;5;124m\"\"\"\u001b[39m)\u001b[38;5;241m.\u001b[39mfetchall())\n\u001b[0;32m     12\u001b[0m \u001b[38;5;28mprint\u001b[39m(\u001b[38;5;124mf\u001b[39m\u001b[38;5;124m\"\u001b[39m\u001b[38;5;124mDuckDB result: \u001b[39m\u001b[38;5;132;01m{\u001b[39;00mduck_result[:\u001b[38;5;241m3\u001b[39m]\u001b[38;5;132;01m}\u001b[39;00m\u001b[38;5;124m...\u001b[39m\u001b[38;5;124m\"\u001b[39m)  \u001b[38;5;66;03m# Showing only first 3 results\u001b[39;00m\n\u001b[1;32m---> 14\u001b[0m polars_result \u001b[38;5;241m=\u001b[39m \u001b[43mtime_execution\u001b[49m\u001b[43m(\u001b[49m\u001b[38;5;28;43;01mlambda\u001b[39;49;00m\u001b[43m:\u001b[49m\u001b[43m \u001b[49m\u001b[43mdf\u001b[49m\u001b[38;5;241;43m.\u001b[39;49m\u001b[43mfilter\u001b[49m\u001b[43m(\u001b[49m\u001b[43mpl\u001b[49m\u001b[38;5;241;43m.\u001b[39;49m\u001b[43mcol\u001b[49m\u001b[43m(\u001b[49m\u001b[38;5;124;43m'\u001b[39;49m\u001b[38;5;124;43mevent_type\u001b[39;49m\u001b[38;5;124;43m'\u001b[39;49m\u001b[43m)\u001b[49m\u001b[43m \u001b[49m\u001b[38;5;241;43m==\u001b[39;49m\u001b[43m \u001b[49m\u001b[38;5;124;43m'\u001b[39;49m\u001b[38;5;124;43mview\u001b[39;49m\u001b[38;5;124;43m'\u001b[39;49m\u001b[43m)\u001b[49m\n\u001b[0;32m     15\u001b[0m \u001b[43m                               \u001b[49m\u001b[38;5;241;43m.\u001b[39;49m\u001b[43mgroupby\u001b[49m\u001b[43m(\u001b[49m\u001b[38;5;124;43m'\u001b[39;49m\u001b[38;5;124;43mproduct_id\u001b[39;49m\u001b[38;5;124;43m'\u001b[39;49m\u001b[43m)\u001b[49m\n\u001b[0;32m     16\u001b[0m \u001b[43m                               \u001b[49m\u001b[38;5;241;43m.\u001b[39;49m\u001b[43magg\u001b[49m\u001b[43m(\u001b[49m\u001b[43mpl\u001b[49m\u001b[38;5;241;43m.\u001b[39;49m\u001b[43mcount\u001b[49m\u001b[43m(\u001b[49m\u001b[43m)\u001b[49m\u001b[38;5;241;43m.\u001b[39;49m\u001b[43malias\u001b[49m\u001b[43m(\u001b[49m\u001b[38;5;124;43m'\u001b[39;49m\u001b[38;5;124;43mview_count\u001b[39;49m\u001b[38;5;124;43m'\u001b[39;49m\u001b[43m)\u001b[49m\u001b[43m)\u001b[49m\n\u001b[0;32m     17\u001b[0m \u001b[43m                               \u001b[49m\u001b[38;5;241;43m.\u001b[39;49m\u001b[43msort\u001b[49m\u001b[43m(\u001b[49m\u001b[38;5;124;43m'\u001b[39;49m\u001b[38;5;124;43mview_count\u001b[39;49m\u001b[38;5;124;43m'\u001b[39;49m\u001b[43m,\u001b[49m\u001b[43m \u001b[49m\u001b[43mdescending\u001b[49m\u001b[38;5;241;43m=\u001b[39;49m\u001b[38;5;28;43;01mTrue\u001b[39;49;00m\u001b[43m)\u001b[49m\n\u001b[0;32m     18\u001b[0m \u001b[43m                               \u001b[49m\u001b[38;5;241;43m.\u001b[39;49m\u001b[43mlimit\u001b[49m\u001b[43m(\u001b[49m\u001b[38;5;241;43m10\u001b[39;49m\u001b[43m)\u001b[49m\n\u001b[0;32m     19\u001b[0m \u001b[43m                               \u001b[49m\u001b[38;5;241;43m.\u001b[39;49m\u001b[43mcollect\u001b[49m\u001b[43m(\u001b[49m\u001b[43m)\u001b[49m\u001b[43m)\u001b[49m\n\u001b[0;32m     20\u001b[0m \u001b[38;5;28mprint\u001b[39m(\u001b[38;5;124mf\u001b[39m\u001b[38;5;124m\"\u001b[39m\u001b[38;5;124mPolars result: \u001b[39m\u001b[38;5;132;01m{\u001b[39;00mpolars_result[:\u001b[38;5;241m3\u001b[39m]\u001b[38;5;132;01m}\u001b[39;00m\u001b[38;5;124m...\u001b[39m\u001b[38;5;124m\"\u001b[39m)  \u001b[38;5;66;03m# Showing only first 3 results\u001b[39;00m\n",
      "Cell \u001b[1;32mIn[2], line 18\u001b[0m, in \u001b[0;36mtime_execution\u001b[1;34m(func)\u001b[0m\n\u001b[0;32m     16\u001b[0m \u001b[38;5;28;01mdef\u001b[39;00m \u001b[38;5;21mtime_execution\u001b[39m(func):\n\u001b[0;32m     17\u001b[0m     start \u001b[38;5;241m=\u001b[39m time\u001b[38;5;241m.\u001b[39mtime()\n\u001b[1;32m---> 18\u001b[0m     result \u001b[38;5;241m=\u001b[39m \u001b[43mfunc\u001b[49m\u001b[43m(\u001b[49m\u001b[43m)\u001b[49m\n\u001b[0;32m     19\u001b[0m     end \u001b[38;5;241m=\u001b[39m time\u001b[38;5;241m.\u001b[39mtime()\n\u001b[0;32m     20\u001b[0m     \u001b[38;5;28mprint\u001b[39m(\u001b[38;5;124mf\u001b[39m\u001b[38;5;124m\"\u001b[39m\u001b[38;5;124mExecution time: \u001b[39m\u001b[38;5;132;01m{\u001b[39;00mend\u001b[38;5;250m \u001b[39m\u001b[38;5;241m-\u001b[39m\u001b[38;5;250m \u001b[39mstart\u001b[38;5;132;01m:\u001b[39;00m\u001b[38;5;124m.4f\u001b[39m\u001b[38;5;132;01m}\u001b[39;00m\u001b[38;5;124m seconds\u001b[39m\u001b[38;5;124m\"\u001b[39m)\n",
      "Cell \u001b[1;32mIn[5], line 15\u001b[0m, in \u001b[0;36m<lambda>\u001b[1;34m()\u001b[0m\n\u001b[0;32m      4\u001b[0m duck_result \u001b[38;5;241m=\u001b[39m time_execution(\u001b[38;5;28;01mlambda\u001b[39;00m: duck_conn\u001b[38;5;241m.\u001b[39mexecute(\u001b[38;5;124m\"\"\"\u001b[39m\n\u001b[0;32m      5\u001b[0m \u001b[38;5;124m    SELECT product_id, COUNT(*) as view_count\u001b[39m\n\u001b[0;32m      6\u001b[0m \u001b[38;5;124m    FROM ecommerce\u001b[39m\n\u001b[1;32m   (...)\u001b[0m\n\u001b[0;32m     10\u001b[0m \u001b[38;5;124m    LIMIT 10\u001b[39m\n\u001b[0;32m     11\u001b[0m \u001b[38;5;124m\"\"\"\u001b[39m)\u001b[38;5;241m.\u001b[39mfetchall())\n\u001b[0;32m     12\u001b[0m \u001b[38;5;28mprint\u001b[39m(\u001b[38;5;124mf\u001b[39m\u001b[38;5;124m\"\u001b[39m\u001b[38;5;124mDuckDB result: \u001b[39m\u001b[38;5;132;01m{\u001b[39;00mduck_result[:\u001b[38;5;241m3\u001b[39m]\u001b[38;5;132;01m}\u001b[39;00m\u001b[38;5;124m...\u001b[39m\u001b[38;5;124m\"\u001b[39m)  \u001b[38;5;66;03m# Showing only first 3 results\u001b[39;00m\n\u001b[0;32m     14\u001b[0m polars_result \u001b[38;5;241m=\u001b[39m time_execution(\u001b[38;5;28;01mlambda\u001b[39;00m: \u001b[43mdf\u001b[49m\u001b[38;5;241;43m.\u001b[39;49m\u001b[43mfilter\u001b[49m\u001b[43m(\u001b[49m\u001b[43mpl\u001b[49m\u001b[38;5;241;43m.\u001b[39;49m\u001b[43mcol\u001b[49m\u001b[43m(\u001b[49m\u001b[38;5;124;43m'\u001b[39;49m\u001b[38;5;124;43mevent_type\u001b[39;49m\u001b[38;5;124;43m'\u001b[39;49m\u001b[43m)\u001b[49m\u001b[43m \u001b[49m\u001b[38;5;241;43m==\u001b[39;49m\u001b[43m \u001b[49m\u001b[38;5;124;43m'\u001b[39;49m\u001b[38;5;124;43mview\u001b[39;49m\u001b[38;5;124;43m'\u001b[39;49m\u001b[43m)\u001b[49m\n\u001b[1;32m---> 15\u001b[0m \u001b[43m                               \u001b[49m\u001b[38;5;241;43m.\u001b[39;49m\u001b[43mgroupby\u001b[49m(\u001b[38;5;124m'\u001b[39m\u001b[38;5;124mproduct_id\u001b[39m\u001b[38;5;124m'\u001b[39m)\n\u001b[0;32m     16\u001b[0m                                \u001b[38;5;241m.\u001b[39magg(pl\u001b[38;5;241m.\u001b[39mcount()\u001b[38;5;241m.\u001b[39malias(\u001b[38;5;124m'\u001b[39m\u001b[38;5;124mview_count\u001b[39m\u001b[38;5;124m'\u001b[39m))\n\u001b[0;32m     17\u001b[0m                                \u001b[38;5;241m.\u001b[39msort(\u001b[38;5;124m'\u001b[39m\u001b[38;5;124mview_count\u001b[39m\u001b[38;5;124m'\u001b[39m, descending\u001b[38;5;241m=\u001b[39m\u001b[38;5;28;01mTrue\u001b[39;00m)\n\u001b[0;32m     18\u001b[0m                                \u001b[38;5;241m.\u001b[39mlimit(\u001b[38;5;241m10\u001b[39m)\n\u001b[0;32m     19\u001b[0m                                \u001b[38;5;241m.\u001b[39mcollect())\n\u001b[0;32m     20\u001b[0m \u001b[38;5;28mprint\u001b[39m(\u001b[38;5;124mf\u001b[39m\u001b[38;5;124m\"\u001b[39m\u001b[38;5;124mPolars result: \u001b[39m\u001b[38;5;132;01m{\u001b[39;00mpolars_result[:\u001b[38;5;241m3\u001b[39m]\u001b[38;5;132;01m}\u001b[39;00m\u001b[38;5;124m...\u001b[39m\u001b[38;5;124m\"\u001b[39m)  \u001b[38;5;66;03m# Showing only first 3 results\u001b[39;00m\n",
      "\u001b[1;31mAttributeError\u001b[0m: 'DataFrame' object has no attribute 'groupby'"
     ]
    }
   ],
   "source": [
    "\n",
    "# Query 3: Top 10 most viewed products\n",
    "print(\"\\nQuery 3: Top 10 most viewed products\")\n",
    "\n",
    "duck_result = time_execution(lambda: duck_conn.execute(\"\"\"\n",
    "    SELECT product_id, COUNT(*) as view_count\n",
    "    FROM ecommerce\n",
    "    WHERE event_type = 'view'\n",
    "    GROUP BY product_id\n",
    "    ORDER BY view_count DESC\n",
    "    LIMIT 10\n",
    "\"\"\").fetchall())\n",
    "print(f\"DuckDB result: {duck_result[:3]}...\")  # Showing only first 3 results\n",
    "\n",
    "polars_result = time_execution(lambda: df.filter(pl.col('event_type') == 'view')\n",
    "                               .groupby('product_id')\n",
    "                               .agg(pl.count().alias('view_count'))\n",
    "                               .sort('view_count', descending=True)\n",
    "                               .limit(10)\n",
    "                               .collect())\n",
    "print(f\"Polars result: {polars_result[:3]}...\")  # Showing only first 3 results\n"
   ]
  },
  {
   "cell_type": "code",
   "execution_count": 6,
   "metadata": {},
   "outputs": [
    {
     "name": "stdout",
     "output_type": "stream",
     "text": [
      "\n",
      "Query 4: Total revenue by category\n",
      "Execution time: 2.0859 seconds\n",
      "DuckDB result: [('electronics.smartphone', 157049623.36999413), (None, 22924937.130000144), ('computers.notebook', 8979887.25), ('electronics.video.tv', 8423407.860000057), ('electronics.clocks', 4818305.46999998)]\n"
     ]
    },
    {
     "ename": "AttributeError",
     "evalue": "'DataFrame' object has no attribute 'groupby'",
     "output_type": "error",
     "traceback": [
      "\u001b[1;31m---------------------------------------------------------------------------\u001b[0m",
      "\u001b[1;31mAttributeError\u001b[0m                            Traceback (most recent call last)",
      "Cell \u001b[1;32mIn[6], line 14\u001b[0m\n\u001b[0;32m      4\u001b[0m duck_result \u001b[38;5;241m=\u001b[39m time_execution(\u001b[38;5;28;01mlambda\u001b[39;00m: duck_conn\u001b[38;5;241m.\u001b[39mexecute(\u001b[38;5;124m\"\"\"\u001b[39m\n\u001b[0;32m      5\u001b[0m \u001b[38;5;124m    SELECT category_code, SUM(price) as total_revenue\u001b[39m\n\u001b[0;32m      6\u001b[0m \u001b[38;5;124m    FROM ecommerce\u001b[39m\n\u001b[1;32m   (...)\u001b[0m\n\u001b[0;32m     10\u001b[0m \u001b[38;5;124m    LIMIT 5\u001b[39m\n\u001b[0;32m     11\u001b[0m \u001b[38;5;124m\"\"\"\u001b[39m)\u001b[38;5;241m.\u001b[39mfetchall())\n\u001b[0;32m     12\u001b[0m \u001b[38;5;28mprint\u001b[39m(\u001b[38;5;124mf\u001b[39m\u001b[38;5;124m\"\u001b[39m\u001b[38;5;124mDuckDB result: \u001b[39m\u001b[38;5;132;01m{\u001b[39;00mduck_result\u001b[38;5;132;01m}\u001b[39;00m\u001b[38;5;124m\"\u001b[39m)\n\u001b[1;32m---> 14\u001b[0m polars_result \u001b[38;5;241m=\u001b[39m \u001b[43mtime_execution\u001b[49m\u001b[43m(\u001b[49m\u001b[38;5;28;43;01mlambda\u001b[39;49;00m\u001b[43m:\u001b[49m\u001b[43m \u001b[49m\u001b[43mdf\u001b[49m\u001b[38;5;241;43m.\u001b[39;49m\u001b[43mfilter\u001b[49m\u001b[43m(\u001b[49m\u001b[43mpl\u001b[49m\u001b[38;5;241;43m.\u001b[39;49m\u001b[43mcol\u001b[49m\u001b[43m(\u001b[49m\u001b[38;5;124;43m'\u001b[39;49m\u001b[38;5;124;43mevent_type\u001b[39;49m\u001b[38;5;124;43m'\u001b[39;49m\u001b[43m)\u001b[49m\u001b[43m \u001b[49m\u001b[38;5;241;43m==\u001b[39;49m\u001b[43m \u001b[49m\u001b[38;5;124;43m'\u001b[39;49m\u001b[38;5;124;43mpurchase\u001b[39;49m\u001b[38;5;124;43m'\u001b[39;49m\u001b[43m)\u001b[49m\n\u001b[0;32m     15\u001b[0m \u001b[43m                               \u001b[49m\u001b[38;5;241;43m.\u001b[39;49m\u001b[43mgroupby\u001b[49m\u001b[43m(\u001b[49m\u001b[38;5;124;43m'\u001b[39;49m\u001b[38;5;124;43mcategory_code\u001b[39;49m\u001b[38;5;124;43m'\u001b[39;49m\u001b[43m)\u001b[49m\n\u001b[0;32m     16\u001b[0m \u001b[43m                               \u001b[49m\u001b[38;5;241;43m.\u001b[39;49m\u001b[43magg\u001b[49m\u001b[43m(\u001b[49m\u001b[43mpl\u001b[49m\u001b[38;5;241;43m.\u001b[39;49m\u001b[43msum\u001b[49m\u001b[43m(\u001b[49m\u001b[38;5;124;43m'\u001b[39;49m\u001b[38;5;124;43mprice\u001b[39;49m\u001b[38;5;124;43m'\u001b[39;49m\u001b[43m)\u001b[49m\u001b[38;5;241;43m.\u001b[39;49m\u001b[43malias\u001b[49m\u001b[43m(\u001b[49m\u001b[38;5;124;43m'\u001b[39;49m\u001b[38;5;124;43mtotal_revenue\u001b[39;49m\u001b[38;5;124;43m'\u001b[39;49m\u001b[43m)\u001b[49m\u001b[43m)\u001b[49m\n\u001b[0;32m     17\u001b[0m \u001b[43m                               \u001b[49m\u001b[38;5;241;43m.\u001b[39;49m\u001b[43msort\u001b[49m\u001b[43m(\u001b[49m\u001b[38;5;124;43m'\u001b[39;49m\u001b[38;5;124;43mtotal_revenue\u001b[39;49m\u001b[38;5;124;43m'\u001b[39;49m\u001b[43m,\u001b[49m\u001b[43m \u001b[49m\u001b[43mdescending\u001b[49m\u001b[38;5;241;43m=\u001b[39;49m\u001b[38;5;28;43;01mTrue\u001b[39;49;00m\u001b[43m)\u001b[49m\n\u001b[0;32m     18\u001b[0m \u001b[43m                               \u001b[49m\u001b[38;5;241;43m.\u001b[39;49m\u001b[43mlimit\u001b[49m\u001b[43m(\u001b[49m\u001b[38;5;241;43m5\u001b[39;49m\u001b[43m)\u001b[49m\n\u001b[0;32m     19\u001b[0m \u001b[43m                               \u001b[49m\u001b[38;5;241;43m.\u001b[39;49m\u001b[43mcollect\u001b[49m\u001b[43m(\u001b[49m\u001b[43m)\u001b[49m\u001b[43m)\u001b[49m\n\u001b[0;32m     20\u001b[0m \u001b[38;5;28mprint\u001b[39m(\u001b[38;5;124mf\u001b[39m\u001b[38;5;124m\"\u001b[39m\u001b[38;5;124mPolars result: \u001b[39m\u001b[38;5;132;01m{\u001b[39;00mpolars_result\u001b[38;5;132;01m}\u001b[39;00m\u001b[38;5;124m\"\u001b[39m)\n",
      "Cell \u001b[1;32mIn[2], line 18\u001b[0m, in \u001b[0;36mtime_execution\u001b[1;34m(func)\u001b[0m\n\u001b[0;32m     16\u001b[0m \u001b[38;5;28;01mdef\u001b[39;00m \u001b[38;5;21mtime_execution\u001b[39m(func):\n\u001b[0;32m     17\u001b[0m     start \u001b[38;5;241m=\u001b[39m time\u001b[38;5;241m.\u001b[39mtime()\n\u001b[1;32m---> 18\u001b[0m     result \u001b[38;5;241m=\u001b[39m \u001b[43mfunc\u001b[49m\u001b[43m(\u001b[49m\u001b[43m)\u001b[49m\n\u001b[0;32m     19\u001b[0m     end \u001b[38;5;241m=\u001b[39m time\u001b[38;5;241m.\u001b[39mtime()\n\u001b[0;32m     20\u001b[0m     \u001b[38;5;28mprint\u001b[39m(\u001b[38;5;124mf\u001b[39m\u001b[38;5;124m\"\u001b[39m\u001b[38;5;124mExecution time: \u001b[39m\u001b[38;5;132;01m{\u001b[39;00mend\u001b[38;5;250m \u001b[39m\u001b[38;5;241m-\u001b[39m\u001b[38;5;250m \u001b[39mstart\u001b[38;5;132;01m:\u001b[39;00m\u001b[38;5;124m.4f\u001b[39m\u001b[38;5;132;01m}\u001b[39;00m\u001b[38;5;124m seconds\u001b[39m\u001b[38;5;124m\"\u001b[39m)\n",
      "Cell \u001b[1;32mIn[6], line 15\u001b[0m, in \u001b[0;36m<lambda>\u001b[1;34m()\u001b[0m\n\u001b[0;32m      4\u001b[0m duck_result \u001b[38;5;241m=\u001b[39m time_execution(\u001b[38;5;28;01mlambda\u001b[39;00m: duck_conn\u001b[38;5;241m.\u001b[39mexecute(\u001b[38;5;124m\"\"\"\u001b[39m\n\u001b[0;32m      5\u001b[0m \u001b[38;5;124m    SELECT category_code, SUM(price) as total_revenue\u001b[39m\n\u001b[0;32m      6\u001b[0m \u001b[38;5;124m    FROM ecommerce\u001b[39m\n\u001b[1;32m   (...)\u001b[0m\n\u001b[0;32m     10\u001b[0m \u001b[38;5;124m    LIMIT 5\u001b[39m\n\u001b[0;32m     11\u001b[0m \u001b[38;5;124m\"\"\"\u001b[39m)\u001b[38;5;241m.\u001b[39mfetchall())\n\u001b[0;32m     12\u001b[0m \u001b[38;5;28mprint\u001b[39m(\u001b[38;5;124mf\u001b[39m\u001b[38;5;124m\"\u001b[39m\u001b[38;5;124mDuckDB result: \u001b[39m\u001b[38;5;132;01m{\u001b[39;00mduck_result\u001b[38;5;132;01m}\u001b[39;00m\u001b[38;5;124m\"\u001b[39m)\n\u001b[0;32m     14\u001b[0m polars_result \u001b[38;5;241m=\u001b[39m time_execution(\u001b[38;5;28;01mlambda\u001b[39;00m: \u001b[43mdf\u001b[49m\u001b[38;5;241;43m.\u001b[39;49m\u001b[43mfilter\u001b[49m\u001b[43m(\u001b[49m\u001b[43mpl\u001b[49m\u001b[38;5;241;43m.\u001b[39;49m\u001b[43mcol\u001b[49m\u001b[43m(\u001b[49m\u001b[38;5;124;43m'\u001b[39;49m\u001b[38;5;124;43mevent_type\u001b[39;49m\u001b[38;5;124;43m'\u001b[39;49m\u001b[43m)\u001b[49m\u001b[43m \u001b[49m\u001b[38;5;241;43m==\u001b[39;49m\u001b[43m \u001b[49m\u001b[38;5;124;43m'\u001b[39;49m\u001b[38;5;124;43mpurchase\u001b[39;49m\u001b[38;5;124;43m'\u001b[39;49m\u001b[43m)\u001b[49m\n\u001b[1;32m---> 15\u001b[0m \u001b[43m                               \u001b[49m\u001b[38;5;241;43m.\u001b[39;49m\u001b[43mgroupby\u001b[49m(\u001b[38;5;124m'\u001b[39m\u001b[38;5;124mcategory_code\u001b[39m\u001b[38;5;124m'\u001b[39m)\n\u001b[0;32m     16\u001b[0m                                \u001b[38;5;241m.\u001b[39magg(pl\u001b[38;5;241m.\u001b[39msum(\u001b[38;5;124m'\u001b[39m\u001b[38;5;124mprice\u001b[39m\u001b[38;5;124m'\u001b[39m)\u001b[38;5;241m.\u001b[39malias(\u001b[38;5;124m'\u001b[39m\u001b[38;5;124mtotal_revenue\u001b[39m\u001b[38;5;124m'\u001b[39m))\n\u001b[0;32m     17\u001b[0m                                \u001b[38;5;241m.\u001b[39msort(\u001b[38;5;124m'\u001b[39m\u001b[38;5;124mtotal_revenue\u001b[39m\u001b[38;5;124m'\u001b[39m, descending\u001b[38;5;241m=\u001b[39m\u001b[38;5;28;01mTrue\u001b[39;00m)\n\u001b[0;32m     18\u001b[0m                                \u001b[38;5;241m.\u001b[39mlimit(\u001b[38;5;241m5\u001b[39m)\n\u001b[0;32m     19\u001b[0m                                \u001b[38;5;241m.\u001b[39mcollect())\n\u001b[0;32m     20\u001b[0m \u001b[38;5;28mprint\u001b[39m(\u001b[38;5;124mf\u001b[39m\u001b[38;5;124m\"\u001b[39m\u001b[38;5;124mPolars result: \u001b[39m\u001b[38;5;132;01m{\u001b[39;00mpolars_result\u001b[38;5;132;01m}\u001b[39;00m\u001b[38;5;124m\"\u001b[39m)\n",
      "\u001b[1;31mAttributeError\u001b[0m: 'DataFrame' object has no attribute 'groupby'"
     ]
    }
   ],
   "source": [
    "\n",
    "# Query 4: Total revenue by category\n",
    "print(\"\\nQuery 4: Total revenue by category\")\n",
    "\n",
    "duck_result = time_execution(lambda: duck_conn.execute(\"\"\"\n",
    "    SELECT category_code, SUM(price) as total_revenue\n",
    "    FROM ecommerce\n",
    "    WHERE event_type = 'purchase'\n",
    "    GROUP BY category_code\n",
    "    ORDER BY total_revenue DESC\n",
    "    LIMIT 5\n",
    "\"\"\").fetchall())\n",
    "print(f\"DuckDB result: {duck_result}\")\n",
    "\n",
    "polars_result = time_execution(lambda: df.filter(pl.col('event_type') == 'purchase')\n",
    "                               .groupby('category_code')\n",
    "                               .agg(pl.sum('price').alias('total_revenue'))\n",
    "                               .sort('total_revenue', descending=True)\n",
    "                               .limit(5)\n",
    "                               .collect())\n",
    "print(f\"Polars result: {polars_result}\")\n"
   ]
  },
  {
   "cell_type": "code",
   "execution_count": 6,
   "metadata": {},
   "outputs": [
    {
     "name": "stdout",
     "output_type": "stream",
     "text": [
      "\n",
      "Query 5: Average price by brand\n"
     ]
    },
    {
     "data": {
      "application/vnd.jupyter.widget-view+json": {
       "model_id": "0a64bcc77b0e4d34aa5c7c1464698100",
       "version_major": 2,
       "version_minor": 0
      },
      "text/plain": [
       "FloatProgress(value=0.0, layout=Layout(width='auto'), style=ProgressStyle(bar_color='black'))"
      ]
     },
     "metadata": {},
     "output_type": "display_data"
    },
    {
     "name": "stdout",
     "output_type": "stream",
     "text": [
      "Execution time: 3.1551 seconds\n",
      "DuckDB result: [('climadiff', 2393.1709790209784), ('pinarello', 2382.3405263157897), ('fondital', 2174.6649100719433), ('rado', 2087.4551580831244), ('jumper', 1853.3299999999967)]\n"
     ]
    },
    {
     "ename": "",
     "evalue": "",
     "output_type": "error",
     "traceback": [
      "\u001b[1;31mThe Kernel crashed while executing code in the current cell or a previous cell. \n",
      "\u001b[1;31mPlease review the code in the cell(s) to identify a possible cause of the failure. \n",
      "\u001b[1;31mClick <a href='https://aka.ms/vscodeJupyterKernelCrash'>here</a> for more info. \n",
      "\u001b[1;31mView Jupyter <a href='command:jupyter.viewOutput'>log</a> for further details."
     ]
    }
   ],
   "source": [
    "\n",
    "# Query 5: Average price by brand\n",
    "print(\"\\nQuery 5: Average price by brand\")\n",
    "\n",
    "duck_result = time_execution(lambda: duck_conn.execute(\"\"\"\n",
    "    SELECT brand, AVG(price) as avg_price\n",
    "    FROM ecommerce\n",
    "    WHERE brand IS NOT NULL\n",
    "    GROUP BY brand\n",
    "    ORDER BY avg_price DESC\n",
    "    LIMIT 5\n",
    "\"\"\").fetchall())\n",
    "print(f\"DuckDB result: {duck_result}\")\n",
    "\n",
    "polars_result = time_execution(lambda: df.filter(pl.col('brand').is_not_null())\n",
    "                               .groupby('brand')\n",
    "                               .agg(pl.mean('price').alias('avg_price'))\n",
    "                               .sort('avg_price', descending=True)\n",
    "                               .limit(5)\n",
    "                               .collect())\n",
    "print(f\"Polars result: {polars_result}\")\n"
   ]
  },
  {
   "cell_type": "code",
   "execution_count": 5,
   "metadata": {},
   "outputs": [
    {
     "name": "stdout",
     "output_type": "stream",
     "text": [
      "Available memory: 10.77 GB\n"
     ]
    }
   ],
   "source": [
    "import psutil\n",
    "print(f\"Available memory: {psutil.virtual_memory().available / (1024 * 1024 * 1024):.2f} GB\")"
   ]
  },
  {
   "cell_type": "code",
   "execution_count": 1,
   "metadata": {},
   "outputs": [
    {
     "name": "stdout",
     "output_type": "stream",
     "text": [
      "\n",
      "Query 6: User session analysis\n"
     ]
    },
    {
     "ename": "NameError",
     "evalue": "name 'time_execution' is not defined",
     "output_type": "error",
     "traceback": [
      "\u001b[1;31m---------------------------------------------------------------------------\u001b[0m",
      "\u001b[1;31mNameError\u001b[0m                                 Traceback (most recent call last)",
      "Cell \u001b[1;32mIn[1], line 4\u001b[0m\n\u001b[0;32m      1\u001b[0m \u001b[38;5;66;03m# Query 6: User session analysis\u001b[39;00m\n\u001b[0;32m      2\u001b[0m \u001b[38;5;28mprint\u001b[39m(\u001b[38;5;124m\"\u001b[39m\u001b[38;5;130;01m\\n\u001b[39;00m\u001b[38;5;124mQuery 6: User session analysis\u001b[39m\u001b[38;5;124m\"\u001b[39m)\n\u001b[1;32m----> 4\u001b[0m duck_result \u001b[38;5;241m=\u001b[39m \u001b[43mtime_execution\u001b[49m(\u001b[38;5;28;01mlambda\u001b[39;00m: duck_conn\u001b[38;5;241m.\u001b[39mexecute(\u001b[38;5;124m\"\"\"\u001b[39m\n\u001b[0;32m      5\u001b[0m \u001b[38;5;124m    SELECT user_session, \u001b[39m\n\u001b[0;32m      6\u001b[0m \u001b[38;5;124m           COUNT(*) as event_count, \u001b[39m\n\u001b[0;32m      7\u001b[0m \u001b[38;5;124m           COUNT(DISTINCT event_type) as unique_event_types,\u001b[39m\n\u001b[0;32m      8\u001b[0m \u001b[38;5;124m           MIN(event_time) as session_start,\u001b[39m\n\u001b[0;32m      9\u001b[0m \u001b[38;5;124m           MAX(event_time) as session_end\u001b[39m\n\u001b[0;32m     10\u001b[0m \u001b[38;5;124m    FROM ecommerce\u001b[39m\n\u001b[0;32m     11\u001b[0m \u001b[38;5;124m    GROUP BY user_session\u001b[39m\n\u001b[0;32m     12\u001b[0m \u001b[38;5;124m    ORDER BY event_count DESC\u001b[39m\n\u001b[0;32m     13\u001b[0m \u001b[38;5;124m    LIMIT 5\u001b[39m\n\u001b[0;32m     14\u001b[0m \u001b[38;5;124m\"\"\"\u001b[39m)\u001b[38;5;241m.\u001b[39mfetchall())\n\u001b[0;32m     15\u001b[0m \u001b[38;5;28mprint\u001b[39m(\u001b[38;5;124mf\u001b[39m\u001b[38;5;124m\"\u001b[39m\u001b[38;5;124mDuckDB result: \u001b[39m\u001b[38;5;132;01m{\u001b[39;00mduck_result\u001b[38;5;132;01m}\u001b[39;00m\u001b[38;5;124m\"\u001b[39m)\n\u001b[0;32m     17\u001b[0m polars_result \u001b[38;5;241m=\u001b[39m time_execution(\u001b[38;5;28;01mlambda\u001b[39;00m: df\u001b[38;5;241m.\u001b[39mgroupby(\u001b[38;5;124m'\u001b[39m\u001b[38;5;124muser_session\u001b[39m\u001b[38;5;124m'\u001b[39m)\n\u001b[0;32m     18\u001b[0m                                \u001b[38;5;241m.\u001b[39magg([\n\u001b[0;32m     19\u001b[0m                                    pl\u001b[38;5;241m.\u001b[39mcount()\u001b[38;5;241m.\u001b[39malias(\u001b[38;5;124m'\u001b[39m\u001b[38;5;124mevent_count\u001b[39m\u001b[38;5;124m'\u001b[39m),\n\u001b[1;32m   (...)\u001b[0m\n\u001b[0;32m     25\u001b[0m                                \u001b[38;5;241m.\u001b[39mlimit(\u001b[38;5;241m5\u001b[39m)\n\u001b[0;32m     26\u001b[0m                                \u001b[38;5;241m.\u001b[39mcollect())\n",
      "\u001b[1;31mNameError\u001b[0m: name 'time_execution' is not defined"
     ]
    }
   ],
   "source": [
    "\n",
    "# Query 6: User session analysis\n",
    "print(\"\\nQuery 6: User session analysis\")\n",
    "\n",
    "duck_result = time_execution(lambda: duck_conn.execute(\"\"\"\n",
    "    SELECT user_session, \n",
    "           COUNT(*) as event_count, \n",
    "           COUNT(DISTINCT event_type) as unique_event_types,\n",
    "           MIN(event_time) as session_start,\n",
    "           MAX(event_time) as session_end\n",
    "    FROM ecommerce\n",
    "    GROUP BY user_session\n",
    "    ORDER BY event_count DESC\n",
    "    LIMIT 5\n",
    "\"\"\").fetchall())\n",
    "print(f\"DuckDB result: {duck_result}\")\n",
    "\n",
    "polars_result = time_execution(lambda: df.groupby('user_session')\n",
    "                               .agg([\n",
    "                                   pl.count().alias('event_count'),\n",
    "                                   pl.n_unique('event_type').alias('unique_event_types'),\n",
    "                                   pl.min('event_time').alias('session_start'),\n",
    "                                   pl.max('event_time').alias('session_end')\n",
    "                               ])\n",
    "                               .sort('event_count', descending=True)\n",
    "                               .limit(5)\n",
    "                               .collect())\n",
    "print(f\"Polars result: {polars_result}\")\n"
   ]
  },
  {
   "cell_type": "code",
   "execution_count": null,
   "metadata": {},
   "outputs": [],
   "source": [
    "\n",
    "# Query 7: Daily event counts\n",
    "print(\"\\nQuery 7: Daily event counts\")\n",
    "\n",
    "duck_result = time_execution(lambda: duck_conn.execute(\"\"\"\n",
    "    SELECT DATE(event_time) as date, COUNT(*) as event_count\n",
    "    FROM ecommerce\n",
    "    GROUP BY DATE(event_time)\n",
    "    ORDER BY date\n",
    "    LIMIT 5\n",
    "\"\"\").fetchall())\n",
    "print(f\"DuckDB result: {duck_result}\")\n",
    "\n",
    "polars_result = time_execution(lambda: df.with_columns(pl.col('event_time').cast(pl.Date).alias('date'))\n",
    "                               .groupby('date')\n",
    "                               .agg(pl.count().alias('event_count'))\n",
    "                               .sort('date')\n",
    "                               .limit(5)\n",
    "                               .collect())\n",
    "print(f\"Polars result: {polars_result}\")\n",
    "\n",
    "# Query 8: Product funnel analysis\n",
    "print(\"\\nQuery 8: Product funnel analysis\")\n",
    "\n",
    "duck_result = time_execution(lambda: duck_conn.execute(\"\"\"\n",
    "    SELECT product_id,\n",
    "           SUM(CASE WHEN event_type = 'view' THEN 1 ELSE 0 END) as view_count,\n",
    "           SUM(CASE WHEN event_type = 'cart' THEN 1 ELSE 0 END) as cart_count,\n",
    "           SUM(CASE WHEN event_type = 'purchase' THEN 1 ELSE 0 END) as purchase_count\n",
    "    FROM ecommerce\n",
    "    GROUP BY product_id\n",
    "    ORDER BY view_count DESC\n",
    "    LIMIT 5\n",
    "\"\"\").fetchall())\n",
    "print(f\"DuckDB result: {duck_result}\")\n",
    "\n",
    "polars_result = time_execution(lambda: df.groupby('product_id')\n",
    "                               .agg([\n",
    "                                   pl.sum(pl.col('event_type') == 'view').alias('view_count'),\n",
    "                                   pl.sum(pl.col('event_type') == 'cart').alias('cart_count'),\n",
    "                                   pl.sum(pl.col('event_type') == 'purchase').alias('purchase_count')\n",
    "                               ])\n",
    "                               .sort('view_count', descending=True)\n",
    "                               .limit(5)\n",
    "                               .collect())\n",
    "print(f\"Polars result: {polars_result}\")\n",
    "\n",
    "# Query 9: Price range distribution\n",
    "print(\"\\nQuery 9: Price range distribution\")\n",
    "\n",
    "duck_result = time_execution(lambda: duck_conn.execute(\"\"\"\n",
    "    SELECT \n",
    "        CASE \n",
    "            WHEN price < 50 THEN 'Under $50'\n",
    "            WHEN price >= 50 AND price < 100 THEN '$50 - $99'\n",
    "            WHEN price >= 100 AND price < 500 THEN '$100 - $499'\n",
    "            WHEN price >= 500 AND price < 1000 THEN '$500 - $999'\n",
    "            ELSE '$1000 and above'\n",
    "        END as price_range,\n",
    "        COUNT(*) as product_count\n",
    "    FROM ecommerce\n",
    "    GROUP BY price_range\n",
    "    ORDER BY product_count DESC\n",
    "\"\"\").fetchall())\n",
    "print(f\"DuckDB result: {duck_result}\")\n",
    "\n",
    "polars_result = time_execution(lambda: df.with_columns(\n",
    "    pl.when(pl.col('price') < 50).then('Under $50')\n",
    "    .when((pl.col('price') >= 50) & (pl.col('price') < 100)).then('$50 - $99')\n",
    "    .when((pl.col('price') >= 100) & (pl.col('price') < 500)).then('$100 - $499')\n",
    "    .when((pl.col('price') >= 500) & (pl.col('price') < 1000)).then('$500 - $999')\n",
    "    .otherwise('$1000 and above')\n",
    "    .alias('price_range')\n",
    ")\n",
    ".groupby('price_range')\n",
    ".agg(pl.count().alias('product_count'))\n",
    ".sort('product_count', descending=True)\n",
    ".collect())\n",
    "print(f\"Polars result: {polars_result}\")\n",
    "\n",
    "# Query 10: User purchase frequency\n",
    "print(\"\\nQuery 10: User purchase frequency\")\n",
    "\n",
    "duck_result = time_execution(lambda: duck_conn.execute(\"\"\"\n",
    "    WITH user_purchases AS (\n",
    "        SELECT user_id, COUNT(*) as purchase_count\n",
    "        FROM ecommerce\n",
    "        WHERE event_type = 'purchase'\n",
    "        GROUP BY user_id\n",
    "    )\n",
    "    SELECT \n",
    "        CASE \n",
    "            WHEN purchase_count = 1 THEN 'One-time'\n",
    "            WHEN purchase_count = 2 THEN 'Two-time'\n",
    "            WHEN purchase_count >= 3 AND purchase_count <= 5 THEN '3-5 times'\n",
    "            WHEN purchase_count > 5 THEN 'More than 5 times'\n",
    "        END as purchase_frequency,\n",
    "        COUNT(*) as user_count\n",
    "    FROM user_purchases\n",
    "    GROUP BY purchase_frequency\n",
    "    ORDER BY user_count DESC\n",
    "\"\"\").fetchall())\n",
    "print(f\"DuckDB result: {duck_result}\")\n",
    "\n",
    "polars_result = time_execution(lambda: df.filter(pl.col('event_type') == 'purchase')\n",
    "                               .groupby('user_id')\n",
    "                               .agg(pl.count().alias('purchase_count'))\n",
    "                               .with_columns(\n",
    "                                   pl.when(pl.col('purchase_count') == 1).then('One-time')\n",
    "                                   .when(pl.col('purchase_count') == 2).then('Two-time')\n",
    "                                   .when((pl.col('purchase_count') >= 3) & (pl.col('purchase_count') <= 5)).then('3-5 times')\n",
    "                                   .otherwise('More than 5 times')\n",
    "                                   .alias('purchase_frequency')\n",
    "                               )\n",
    "                               .groupby('purchase_frequency')\n",
    "                               .agg(pl.count().alias('user_count'))\n",
    "                               .sort('user_count', descending=True)\n",
    "                               .collect())\n",
    "print(f\"Polars result: {polars_result}\")\n",
    "\n",
    "# Clean up\n",
    "duck_conn.close()"
   ]
  }
 ],
 "metadata": {
  "kernelspec": {
   "display_name": "Python 3",
   "language": "python",
   "name": "python3"
  },
  "language_info": {
   "codemirror_mode": {
    "name": "ipython",
    "version": 3
   },
   "file_extension": ".py",
   "mimetype": "text/x-python",
   "name": "python",
   "nbconvert_exporter": "python",
   "pygments_lexer": "ipython3",
   "version": "3.12.3"
  }
 },
 "nbformat": 4,
 "nbformat_minor": 2
}
